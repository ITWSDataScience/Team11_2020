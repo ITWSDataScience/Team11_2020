{
 "cells": [
  {
   "cell_type": "code",
   "execution_count": 2,
   "metadata": {},
   "outputs": [],
   "source": [
    "import netCDF4\n",
    "import pandas as pd"
   ]
  },
  {
   "cell_type": "code",
   "execution_count": 3,
   "metadata": {},
   "outputs": [],
   "source": [
    "precip_nc_file = 'NOAAGlobalTemp_v5.0.0_gridded_s188001_e202010_c20201108T133314.nc'\n",
    "nc = netCDF4.Dataset(precip_nc_file, mode='r')"
   ]
  },
  {
   "cell_type": "code",
   "execution_count": 6,
   "metadata": {
    "scrolled": true
   },
   "outputs": [
    {
     "data": {
      "text/plain": [
       "<class 'netCDF4._netCDF4.Dataset'>\n",
       "root group (NETCDF4 data model, file format HDF5):\n",
       "    Conventions: CF-1.6, ACDD-1.3\n",
       "    title: NOAA Merged Land Ocean Global Surface Temperature Analysis (NOAAGlobalTemp)\n",
       "    summary: NOAAGlobalTemp is a merged land-ocean surface temperature analysis, formerly abbreviated as MLOST. The SST dataset is the Extended Reconstructed Sea Surface Temperature (ERSST) and the land surface air temperature dataset is from the Global Historical Climatology Network Monthly (GHCN-M) database.\n",
       "    institution: DOC/NOAA/NESDIS/National Centers for Environmental Information(NCEI)\n",
       "    id:  gov.noaa.ncdc:C00934 \n",
       "    naming_authority:  gov.noaa.ncei \n",
       "    project:  NOAAGlobalTemp \n",
       "    platform: Ships, moored buoys, surface drifting buoys, Argo floats, and weather stations\n",
       "    instrument: Conventional thermometers\n",
       "    history: Version 5.0.0, blending ERSST V5 and GHCN-M V4.\n",
       "    comment: Merged land ocean surface temperature anomalies.\n",
       "    product_version: 5.0.0\n",
       "    source: NOAAGlobalTemp combines a global sea surface temperature with a global land surface air temperature data\n",
       "    ncei_template_version: NCEI_NetCDF_Grid_Template_v2.0\n",
       "    Metadata_Conventions: Unidata Dataset Discovery v1.0\n",
       "    license: These data are available for use without restriction.\n",
       "    creator_name: Boyin Huang, Xungang Yin, Ph.D\n",
       "    creator_email: Boyin.Huang@noaa.gov, Xungang.Yin@noaa.gov\n",
       "    creator_type: group\n",
       "    creator_institution: US DOC/NOAA/NESDIS/National Centers for Environmental Information(NCEI)\n",
       "    contributor_name: Huai-min Zhang, Ph.D\n",
       "    contributor_role: Chief, NOAA/NESDIS/NCEI/CCOG/OSB Ocean Surface Section\n",
       "    publisher_name: NCEI\n",
       "    publisher_institution: NCEI\n",
       "    publisher_url: https://www.ncdc.noaa.gov/\n",
       "    publisher_email: ncei.info@noaa.gov\n",
       "    publisher_type: institution\n",
       "    keywords: Earth Science > Oceans > Ocean Temperature > Sea Surface Temperature, Earth Science > Atmosphere > Atmospheric Temperature > Surface Temperature > Air Temperature\n",
       "    keywords_vocabulary: NASA Global Change Master Directory (GCMD) Science Keywords\n",
       "    standard_name_vocabulary: Climate and Forecast (CF) Standard Name Table (Version 46, 25 July 2017)\n",
       "    date_created: 2020-11-08T18:33:15Z\n",
       "    necdf_version_id: 4.2.1.1\n",
       "    netcdf_creator_name: Yongsheng Zhang, Ph.D\n",
       "    netcdf_creator_email: yongsheng.zhang@noaa.gov\n",
       "    dataset_citation_product: NOAA Merged Land Ocean Global Surface Temperature Analysis (NOAAGlobalTemp)\n",
       "    dataset_citation_version: 5.0.0\n",
       "    dataset_citation_institution: NOAA/NESDIS/NCEI, Asheville, NC, USA\n",
       "    dataset_citation_url: https://doi.org/10.25921/9qth-2p70\n",
       "    metadata_link: https://doi.org/10.25921/9qth-2p70\n",
       "    cdm_data_type: Grid\n",
       "    grid_mapping_name: latitude_longitude\n",
       "    processing_level: NOAA Processing Level 4\n",
       "    geospatial_lon_min: 2.5\n",
       "    geospatial_lon_max: 357.5\n",
       "    geospatial_lon_units: degrees_east\n",
       "    geospatial_lon_resolution: 5.0 degree\n",
       "    geospatial_lat_min: -87.5\n",
       "    geospatial_lat_max: 87.5\n",
       "    geospatial_lat_units: degrees_north\n",
       "    geospatial_lat_resolution: 5.0 degree\n",
       "    geospatial_bounds: POLYGON ((2.5 -87.5, 2.5 87.5, 357.5 87.5, 357.5 -87.5, 2.5 -87.5))\n",
       "    geospatial_bounds_crs: EPSG:4326\n",
       "    geospatial_vertical_min: 0.0\n",
       "    geospatial_vertical_max: 0.0\n",
       "    geospatial_vertical_units: meters\n",
       "    geospatial_vertical_resolution: 0.f\n",
       "    geospatial_vertical_positive: up\n",
       "    time_coverage_start: 1880-01\n",
       "    time_coverage_end: 2020-10\n",
       "    time_coverage_resolution: P1M\n",
       "    time_coverage_duration: P140Y10M\n",
       "    references: Vose, R. S., et al., 2012: NOAAs merged land-ocean surface temperature analysis. Bulletin of the American Meteorological Society, 93, 1677-1685. doi: 10.1175/BAMS-D-11-00241.1. Huang, B., Peter W. Thorne, et. al, 2017: Extended Reconstructed Sea Surface Temperature version 5 (ERSSTv5), Upgrades, validations, and intercomparisons. J. Climate, 30, 8179-8205. doi: 10.1175/JCLI-D-16-0836.1\n",
       "    climatology: Climatology is based on 1971-2000 monthly climatology\n",
       "    acknowledgment: The NOAA Global Surface Temperature Dataset is provided by the NOAA National Centers for Environmental Information(NCEI)\n",
       "    date_modified: 2020-11-08T18:33:15Z\n",
       "    date_issued: 2020-11-08T18:33:15Z\n",
       "    dimensions(sizes): time(1690), lat(36), lon(72), z(1)\n",
       "    variables(dimensions): float32 time(time), float32 lat(lat), float32 lon(lon), float32 z(z), float32 anom(time, z, lat, lon)\n",
       "    groups: "
      ]
     },
     "execution_count": 6,
     "metadata": {},
     "output_type": "execute_result"
    }
   ],
   "source": [
    "nc"
   ]
  },
  {
   "cell_type": "code",
   "execution_count": 22,
   "metadata": {},
   "outputs": [
    {
     "data": {
      "text/plain": [
       "dict_keys(['time', 'lat', 'lon', 'z', 'anom'])"
      ]
     },
     "execution_count": 22,
     "metadata": {},
     "output_type": "execute_result"
    }
   ],
   "source": [
    "nc.variables.keys()"
   ]
  },
  {
   "cell_type": "code",
   "execution_count": 27,
   "metadata": {},
   "outputs": [],
   "source": [
    "import xarray as xr\n",
    "\n",
    "ds = xr.open_dataset('NOAAGlobalTemp_v5.0.0_gridded_s188001_e202010_c20201108T133314.nc')\n",
    "df = ds.to_dataframe()\n",
    "df.to_csv('NOAAGlobalTemp_v5.0.0_gridded_s188001_e202010_c20201108T133314.csv')"
   ]
  },
  {
   "cell_type": "code",
   "execution_count": 26,
   "metadata": {},
   "outputs": [
    {
     "data": {
      "text/html": [
       "<div>\n",
       "<style scoped>\n",
       "    .dataframe tbody tr th:only-of-type {\n",
       "        vertical-align: middle;\n",
       "    }\n",
       "\n",
       "    .dataframe tbody tr th {\n",
       "        vertical-align: top;\n",
       "    }\n",
       "\n",
       "    .dataframe thead th {\n",
       "        text-align: right;\n",
       "    }\n",
       "</style>\n",
       "<table border=\"1\" class=\"dataframe\">\n",
       "  <thead>\n",
       "    <tr style=\"text-align: right;\">\n",
       "      <th></th>\n",
       "      <th></th>\n",
       "      <th></th>\n",
       "      <th></th>\n",
       "      <th>anom</th>\n",
       "    </tr>\n",
       "    <tr>\n",
       "      <th>lat</th>\n",
       "      <th>lon</th>\n",
       "      <th>time</th>\n",
       "      <th>z</th>\n",
       "      <th></th>\n",
       "    </tr>\n",
       "  </thead>\n",
       "  <tbody>\n",
       "    <tr>\n",
       "      <th rowspan=\"5\" valign=\"top\">-87.5</th>\n",
       "      <th rowspan=\"5\" valign=\"top\">2.5</th>\n",
       "      <th>1880-01-01</th>\n",
       "      <th>0.0</th>\n",
       "      <td>NaN</td>\n",
       "    </tr>\n",
       "    <tr>\n",
       "      <th>1880-02-01</th>\n",
       "      <th>0.0</th>\n",
       "      <td>NaN</td>\n",
       "    </tr>\n",
       "    <tr>\n",
       "      <th>1880-03-01</th>\n",
       "      <th>0.0</th>\n",
       "      <td>NaN</td>\n",
       "    </tr>\n",
       "    <tr>\n",
       "      <th>1880-04-01</th>\n",
       "      <th>0.0</th>\n",
       "      <td>NaN</td>\n",
       "    </tr>\n",
       "    <tr>\n",
       "      <th>1880-05-01</th>\n",
       "      <th>0.0</th>\n",
       "      <td>NaN</td>\n",
       "    </tr>\n",
       "    <tr>\n",
       "      <th>...</th>\n",
       "      <th>...</th>\n",
       "      <th>...</th>\n",
       "      <th>...</th>\n",
       "      <td>...</td>\n",
       "    </tr>\n",
       "    <tr>\n",
       "      <th rowspan=\"5\" valign=\"top\">87.5</th>\n",
       "      <th rowspan=\"5\" valign=\"top\">357.5</th>\n",
       "      <th>2020-06-01</th>\n",
       "      <th>0.0</th>\n",
       "      <td>NaN</td>\n",
       "    </tr>\n",
       "    <tr>\n",
       "      <th>2020-07-01</th>\n",
       "      <th>0.0</th>\n",
       "      <td>NaN</td>\n",
       "    </tr>\n",
       "    <tr>\n",
       "      <th>2020-08-01</th>\n",
       "      <th>0.0</th>\n",
       "      <td>NaN</td>\n",
       "    </tr>\n",
       "    <tr>\n",
       "      <th>2020-09-01</th>\n",
       "      <th>0.0</th>\n",
       "      <td>NaN</td>\n",
       "    </tr>\n",
       "    <tr>\n",
       "      <th>2020-10-01</th>\n",
       "      <th>0.0</th>\n",
       "      <td>NaN</td>\n",
       "    </tr>\n",
       "  </tbody>\n",
       "</table>\n",
       "<p>4380480 rows × 1 columns</p>\n",
       "</div>"
      ],
      "text/plain": [
       "                            anom\n",
       "lat   lon   time       z        \n",
       "-87.5 2.5   1880-01-01 0.0   NaN\n",
       "            1880-02-01 0.0   NaN\n",
       "            1880-03-01 0.0   NaN\n",
       "            1880-04-01 0.0   NaN\n",
       "            1880-05-01 0.0   NaN\n",
       "...                          ...\n",
       " 87.5 357.5 2020-06-01 0.0   NaN\n",
       "            2020-07-01 0.0   NaN\n",
       "            2020-08-01 0.0   NaN\n",
       "            2020-09-01 0.0   NaN\n",
       "            2020-10-01 0.0   NaN\n",
       "\n",
       "[4380480 rows x 1 columns]"
      ]
     },
     "execution_count": 26,
     "metadata": {},
     "output_type": "execute_result"
    }
   ],
   "source": [
    "df"
   ]
  },
  {
   "cell_type": "code",
   "execution_count": 18,
   "metadata": {},
   "outputs": [
    {
     "ename": "Exception",
     "evalue": "Data must be 1-dimensional",
     "output_type": "error",
     "traceback": [
      "\u001b[0;31m---------------------------------------------------------------------------\u001b[0m",
      "\u001b[0;31mException\u001b[0m                                 Traceback (most recent call last)",
      "\u001b[0;32m<ipython-input-18-c6da1b88c38f>\u001b[0m in \u001b[0;36m<module>\u001b[0;34m\u001b[0m\n\u001b[1;32m      7\u001b[0m \u001b[0;34m\u001b[0m\u001b[0m\n\u001b[1;32m      8\u001b[0m \u001b[0;31m# a pandas.Series designed for time series of a 2D lat,lon grid\u001b[0m\u001b[0;34m\u001b[0m\u001b[0;34m\u001b[0m\u001b[0;34m\u001b[0m\u001b[0m\n\u001b[0;32m----> 9\u001b[0;31m \u001b[0manom_ts\u001b[0m \u001b[0;34m=\u001b[0m \u001b[0mpd\u001b[0m\u001b[0;34m.\u001b[0m\u001b[0mSeries\u001b[0m\u001b[0;34m(\u001b[0m\u001b[0manom\u001b[0m\u001b[0;34m,\u001b[0m \u001b[0mindex\u001b[0m\u001b[0;34m=\u001b[0m\u001b[0mdtime\u001b[0m\u001b[0;34m)\u001b[0m\u001b[0;34m\u001b[0m\u001b[0;34m\u001b[0m\u001b[0m\n\u001b[0m\u001b[1;32m     10\u001b[0m \u001b[0;34m\u001b[0m\u001b[0m\n\u001b[1;32m     11\u001b[0m \u001b[0;31m# precip_ts.to_csv('precip.csv',index=True, header=True)\u001b[0m\u001b[0;34m\u001b[0m\u001b[0;34m\u001b[0m\u001b[0;34m\u001b[0m\u001b[0m\n",
      "\u001b[0;32m/Library/Frameworks/Python.framework/Versions/3.8/lib/python3.8/site-packages/pandas/core/series.py\u001b[0m in \u001b[0;36m__init__\u001b[0;34m(self, data, index, dtype, name, copy, fastpath)\u001b[0m\n\u001b[1;32m    303\u001b[0m                     \u001b[0mdata\u001b[0m \u001b[0;34m=\u001b[0m \u001b[0mdata\u001b[0m\u001b[0;34m.\u001b[0m\u001b[0mcopy\u001b[0m\u001b[0;34m(\u001b[0m\u001b[0;34m)\u001b[0m\u001b[0;34m\u001b[0m\u001b[0;34m\u001b[0m\u001b[0m\n\u001b[1;32m    304\u001b[0m             \u001b[0;32melse\u001b[0m\u001b[0;34m:\u001b[0m\u001b[0;34m\u001b[0m\u001b[0;34m\u001b[0m\u001b[0m\n\u001b[0;32m--> 305\u001b[0;31m                 \u001b[0mdata\u001b[0m \u001b[0;34m=\u001b[0m \u001b[0msanitize_array\u001b[0m\u001b[0;34m(\u001b[0m\u001b[0mdata\u001b[0m\u001b[0;34m,\u001b[0m \u001b[0mindex\u001b[0m\u001b[0;34m,\u001b[0m \u001b[0mdtype\u001b[0m\u001b[0;34m,\u001b[0m \u001b[0mcopy\u001b[0m\u001b[0;34m,\u001b[0m \u001b[0mraise_cast_failure\u001b[0m\u001b[0;34m=\u001b[0m\u001b[0;32mTrue\u001b[0m\u001b[0;34m)\u001b[0m\u001b[0;34m\u001b[0m\u001b[0;34m\u001b[0m\u001b[0m\n\u001b[0m\u001b[1;32m    306\u001b[0m \u001b[0;34m\u001b[0m\u001b[0m\n\u001b[1;32m    307\u001b[0m                 \u001b[0mdata\u001b[0m \u001b[0;34m=\u001b[0m \u001b[0mSingleBlockManager\u001b[0m\u001b[0;34m(\u001b[0m\u001b[0mdata\u001b[0m\u001b[0;34m,\u001b[0m \u001b[0mindex\u001b[0m\u001b[0;34m,\u001b[0m \u001b[0mfastpath\u001b[0m\u001b[0;34m=\u001b[0m\u001b[0;32mTrue\u001b[0m\u001b[0;34m)\u001b[0m\u001b[0;34m\u001b[0m\u001b[0;34m\u001b[0m\u001b[0m\n",
      "\u001b[0;32m/Library/Frameworks/Python.framework/Versions/3.8/lib/python3.8/site-packages/pandas/core/construction.py\u001b[0m in \u001b[0;36msanitize_array\u001b[0;34m(data, index, dtype, copy, raise_cast_failure)\u001b[0m\n\u001b[1;32m    480\u001b[0m     \u001b[0;32melif\u001b[0m \u001b[0msubarr\u001b[0m\u001b[0;34m.\u001b[0m\u001b[0mndim\u001b[0m \u001b[0;34m>\u001b[0m \u001b[0;36m1\u001b[0m\u001b[0;34m:\u001b[0m\u001b[0;34m\u001b[0m\u001b[0;34m\u001b[0m\u001b[0m\n\u001b[1;32m    481\u001b[0m         \u001b[0;32mif\u001b[0m \u001b[0misinstance\u001b[0m\u001b[0;34m(\u001b[0m\u001b[0mdata\u001b[0m\u001b[0;34m,\u001b[0m \u001b[0mnp\u001b[0m\u001b[0;34m.\u001b[0m\u001b[0mndarray\u001b[0m\u001b[0;34m)\u001b[0m\u001b[0;34m:\u001b[0m\u001b[0;34m\u001b[0m\u001b[0;34m\u001b[0m\u001b[0m\n\u001b[0;32m--> 482\u001b[0;31m             \u001b[0;32mraise\u001b[0m \u001b[0mException\u001b[0m\u001b[0;34m(\u001b[0m\u001b[0;34m\"Data must be 1-dimensional\"\u001b[0m\u001b[0;34m)\u001b[0m\u001b[0;34m\u001b[0m\u001b[0;34m\u001b[0m\u001b[0m\n\u001b[0m\u001b[1;32m    483\u001b[0m         \u001b[0;32melse\u001b[0m\u001b[0;34m:\u001b[0m\u001b[0;34m\u001b[0m\u001b[0;34m\u001b[0m\u001b[0m\n\u001b[1;32m    484\u001b[0m             \u001b[0msubarr\u001b[0m \u001b[0;34m=\u001b[0m \u001b[0mcom\u001b[0m\u001b[0;34m.\u001b[0m\u001b[0masarray_tuplesafe\u001b[0m\u001b[0;34m(\u001b[0m\u001b[0mdata\u001b[0m\u001b[0;34m,\u001b[0m \u001b[0mdtype\u001b[0m\u001b[0;34m=\u001b[0m\u001b[0mdtype\u001b[0m\u001b[0;34m)\u001b[0m\u001b[0;34m\u001b[0m\u001b[0;34m\u001b[0m\u001b[0m\n",
      "\u001b[0;31mException\u001b[0m: Data must be 1-dimensional"
     ]
    }
   ],
   "source": [
    "lat = nc.variables['lat'][:]\n",
    "lon = nc.variables['lon'][:]\n",
    "time_var = nc.variables['time']\n",
    "dtime = netCDF4.num2date(time_var[:],time_var.units)\n",
    "z = nc.variables['z'][:]\n",
    "anom = nc.variables['anom'][:]\n",
    "\n",
    "# a pandas.Series designed for time series of a 2D lat,lon grid\n",
    "anom_ts = pd.Series(anom, index=dtime) \n",
    "\n",
    "# precip_ts.to_csv('precip.csv',index=True, header=True)"
   ]
  },
  {
   "cell_type": "code",
   "execution_count": 15,
   "metadata": {},
   "outputs": [
    {
     "data": {
      "text/plain": [
       "masked_array(data=[cftime.DatetimeGregorian(1880, 1, 1, 0, 0, 0, 0),\n",
       "                   cftime.DatetimeGregorian(1880, 2, 1, 0, 0, 0, 0),\n",
       "                   cftime.DatetimeGregorian(1880, 3, 1, 0, 0, 0, 0), ...,\n",
       "                   cftime.DatetimeGregorian(2020, 8, 1, 0, 0, 0, 0),\n",
       "                   cftime.DatetimeGregorian(2020, 9, 1, 0, 0, 0, 0),\n",
       "                   cftime.DatetimeGregorian(2020, 10, 1, 0, 0, 0, 0)],\n",
       "             mask=False,\n",
       "       fill_value='?',\n",
       "            dtype=object)"
      ]
     },
     "execution_count": 15,
     "metadata": {},
     "output_type": "execute_result"
    }
   ],
   "source": [
    "dtime"
   ]
  },
  {
   "cell_type": "code",
   "execution_count": 28,
   "metadata": {},
   "outputs": [
    {
     "data": {
      "text/plain": [
       "<class 'netCDF4._netCDF4.Variable'>\n",
       "float32 anom(time, z, lat, lon)\n",
       "    long_name: Global Temperature Anomalies\n",
       "    standard_name: surface_temperature_anomaly\n",
       "    coverage_content_type: physicalMeasurement\n",
       "    units: degrees C\n",
       "    missing_value: -999.9\n",
       "    _FillValue: -999.9\n",
       "    add_offset: 0.0\n",
       "    scale_factor: 1.0\n",
       "    valid_min: -40.0\n",
       "    valid_max: 40.0\n",
       "    coordinates: time z lat lon\n",
       "unlimited dimensions: \n",
       "current shape = (1690, 1, 36, 72)\n",
       "filling on"
      ]
     },
     "execution_count": 28,
     "metadata": {},
     "output_type": "execute_result"
    }
   ],
   "source": [
    "nc.variables['anom']"
   ]
  },
  {
   "cell_type": "code",
   "execution_count": null,
   "metadata": {},
   "outputs": [],
   "source": []
  }
 ],
 "metadata": {
  "kernelspec": {
   "display_name": "Python 3",
   "language": "python",
   "name": "python3"
  },
  "language_info": {
   "codemirror_mode": {
    "name": "ipython",
    "version": 3
   },
   "file_extension": ".py",
   "mimetype": "text/x-python",
   "name": "python",
   "nbconvert_exporter": "python",
   "pygments_lexer": "ipython3",
   "version": "3.8.3"
  }
 },
 "nbformat": 4,
 "nbformat_minor": 4
}
